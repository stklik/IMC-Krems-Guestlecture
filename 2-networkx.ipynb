{
 "cells": [
  {
   "cell_type": "code",
   "execution_count": null,
   "id": "fba7de62-c016-46c6-8039-9053a6f99ca5",
   "metadata": {
    "editable": true,
    "slideshow": {
     "slide_type": ""
    },
    "tags": []
   },
   "outputs": [],
   "source": [
    "# this is just to change the presentation style... Please ignore!\n",
    "from IPython.display import display, HTML\n",
    "display(HTML(\"\"\"<style>\n",
    ".cm-line { font-size: large !important; }\n",
    ".dataframe tbody tr th { font-size: large !important; }\n",
    ".dataframe tbody tr { font-size: large !important; }\n",
    ".dataframe thead th { font-size: large !important; }\n",
    ".dataframe thead { font-size: large !important; }\n",
    "</style>\"\"\"))"
   ]
  },
  {
   "cell_type": "markdown",
   "id": "a0f6cdf7",
   "metadata": {
    "editable": true,
    "slideshow": {
     "slide_type": "slide"
    },
    "tags": []
   },
   "source": [
    "# Networkx (https://networkx.org/)\n",
    "\n",
    "- Graphs, DiGraphs, MultiGraphs, Trees\n",
    "- analysis, search, exploration\n",
    "- LOTS of algorithms, ready to use"
   ]
  },
  {
   "cell_type": "raw",
   "id": "35715df4-ce3b-4995-af29-fbde0f14885d",
   "metadata": {
    "editable": true,
    "raw_mimetype": "",
    "slideshow": {
     "slide_type": "fragment"
    },
    "tags": []
   },
   "source": [
    "!pip install networkx matplotlib"
   ]
  },
  {
   "cell_type": "code",
   "execution_count": null,
   "id": "5737f296",
   "metadata": {
    "slideshow": {
     "slide_type": "fragment"
    }
   },
   "outputs": [],
   "source": [
    "import networkx as nx\n",
    "nx.__version__"
   ]
  },
  {
   "cell_type": "markdown",
   "id": "ce43efba",
   "metadata": {
    "editable": true,
    "slideshow": {
     "slide_type": "subslide"
    },
    "tags": []
   },
   "source": [
    "## Creating a graph"
   ]
  },
  {
   "cell_type": "code",
   "execution_count": null,
   "id": "3f558bc8",
   "metadata": {
    "editable": true,
    "slideshow": {
     "slide_type": "-"
    },
    "tags": []
   },
   "outputs": [],
   "source": [
    "G = nx.DiGraph()\n",
    "\n",
    "# Add nodes directly\n",
    "G.add_node(\"Stefan\")\n",
    "G.add_node(\"Alessio\")\n",
    "G.add_edge(\"Stefan\", \"Alessio\", weight=0)\n",
    "\n",
    "# New nodes are added automatically\n",
    "G.add_edge(\"a\", \"b\", weight=14)\n",
    "G.add_edge(\"a\", \"e\", weight=3)\n",
    "G.add_edge(\"b\", \"c\", weight=4)\n",
    "G.add_edge(\"b\", \"d\", weight=5)\n",
    "G.add_edge(\"d\", \"e\", weight=7)\n",
    "G.add_edge(\"d\", \"f\", weight=7)\n",
    "G.add_edge(\"e\", \"e\", weight=9)"
   ]
  },
  {
   "cell_type": "markdown",
   "id": "10e32076",
   "metadata": {
    "editable": true,
    "slideshow": {
     "slide_type": "subslide"
    },
    "tags": []
   },
   "source": [
    "## Explore the Graph"
   ]
  },
  {
   "cell_type": "code",
   "execution_count": null,
   "id": "b729f483",
   "metadata": {
    "editable": true,
    "slideshow": {
     "slide_type": ""
    },
    "tags": []
   },
   "outputs": [],
   "source": [
    "import matplotlib.pyplot as plt\n",
    "\n",
    "def draw_graph(G):  # just a small helper\n",
    "    nx.draw_networkx(G, pos=pos, node_color=\"red\")  # \n",
    "    labels = {e: G.edges[e]['weight'] for e in G.edges}\n",
    "    nx.draw_networkx_edge_labels(G, pos, edge_labels=labels)\n",
    "    return plt.show()\n",
    "draw_graph(G)"
   ]
  },
  {
   "cell_type": "code",
   "execution_count": null,
   "id": "4d7f9439-f89c-4c2c-9986-2172c6679215",
   "metadata": {
    "editable": true,
    "slideshow": {
     "slide_type": "subslide"
    },
    "tags": []
   },
   "outputs": [],
   "source": [
    "draw_graph(G)"
   ]
  },
  {
   "cell_type": "code",
   "execution_count": null,
   "id": "29f25e09",
   "metadata": {
    "editable": true,
    "slideshow": {
     "slide_type": "fragment"
    },
    "tags": []
   },
   "outputs": [],
   "source": [
    "print(G.degree[\"Alessio\"])\n",
    "print(G.in_degree[\"Alessio\"])\n",
    "print(G.out_degree[\"Alessio\"])"
   ]
  },
  {
   "cell_type": "code",
   "execution_count": null,
   "id": "52dbfcc5",
   "metadata": {
    "editable": true,
    "slideshow": {
     "slide_type": "fragment"
    },
    "tags": []
   },
   "outputs": [],
   "source": [
    "print(G.degree[\"b\"])\n",
    "print(G.in_degree[\"b\"])\n",
    "print(G.out_degree[\"b\"])"
   ]
  },
  {
   "cell_type": "markdown",
   "id": "4884ec31",
   "metadata": {
    "editable": true,
    "slideshow": {
     "slide_type": "subslide"
    },
    "tags": []
   },
   "source": [
    "## Exploring the Graph"
   ]
  },
  {
   "cell_type": "code",
   "execution_count": null,
   "id": "064ad481",
   "metadata": {
    "editable": true,
    "slideshow": {
     "slide_type": "-"
    },
    "tags": []
   },
   "outputs": [],
   "source": [
    "draw_graph(G)"
   ]
  },
  {
   "cell_type": "code",
   "execution_count": null,
   "id": "1680af00",
   "metadata": {
    "editable": true,
    "slideshow": {
     "slide_type": "fragment"
    },
    "tags": []
   },
   "outputs": [],
   "source": [
    "print(\"e's ancestors\", nx.ancestors(G, \"e\"))\n",
    "print(\"a's descendants\", nx.descendants(G, \"a\"))"
   ]
  },
  {
   "cell_type": "code",
   "execution_count": null,
   "id": "c221472d",
   "metadata": {
    "editable": true,
    "slideshow": {
     "slide_type": "fragment"
    },
    "tags": []
   },
   "outputs": [],
   "source": [
    "list(nx.neighbors(G, \"b\"))"
   ]
  },
  {
   "cell_type": "code",
   "execution_count": null,
   "id": "09d92a14",
   "metadata": {
    "editable": true,
    "slideshow": {
     "slide_type": "fragment"
    },
    "tags": []
   },
   "outputs": [],
   "source": [
    "list(nx.neighbors(G.to_undirected(), \"b\"))"
   ]
  },
  {
   "cell_type": "markdown",
   "id": "b1fd19cd",
   "metadata": {
    "editable": true,
    "slideshow": {
     "slide_type": "subslide"
    },
    "tags": []
   },
   "source": [
    "## Adjacency Matrix"
   ]
  },
  {
   "cell_type": "code",
   "execution_count": null,
   "id": "373a1ef7-1a7b-4d47-a9b9-db6fee54520c",
   "metadata": {
    "editable": true,
    "slideshow": {
     "slide_type": ""
    },
    "tags": []
   },
   "outputs": [],
   "source": [
    "draw_graph(G)"
   ]
  },
  {
   "cell_type": "code",
   "execution_count": null,
   "id": "ab01fc23",
   "metadata": {
    "editable": true,
    "slideshow": {
     "slide_type": "-"
    },
    "tags": []
   },
   "outputs": [],
   "source": [
    "print(nx.adjacency_matrix(G))"
   ]
  },
  {
   "cell_type": "code",
   "execution_count": null,
   "id": "ab0da4fd",
   "metadata": {
    "editable": true,
    "slideshow": {
     "slide_type": "-"
    },
    "tags": []
   },
   "outputs": [],
   "source": [
    "print(nx.adjacency_matrix(G).todense())"
   ]
  },
  {
   "cell_type": "markdown",
   "id": "7cb241ec",
   "metadata": {
    "editable": true,
    "slideshow": {
     "slide_type": "subslide"
    },
    "tags": []
   },
   "source": [
    "## And many, many, many, many, many more functions\n",
    "\n",
    "https://networkx.org/documentation/stable/reference/index.html"
   ]
  },
  {
   "cell_type": "markdown",
   "id": "832a902a",
   "metadata": {
    "editable": true,
    "slideshow": {
     "slide_type": "slide"
    },
    "tags": []
   },
   "source": [
    "# An example with Pandas\n",
    "\n",
    "- WG22 Dataset from https://people.sc.fsu.edu/~jburkardt/datasets/cities/cities.html\n",
    "- 22 German cities + distances between them"
   ]
  },
  {
   "cell_type": "code",
   "execution_count": null,
   "id": "eb81f5e6",
   "metadata": {},
   "outputs": [],
   "source": [
    "import pandas as pd\n",
    "import itertools"
   ]
  },
  {
   "cell_type": "markdown",
   "id": "05d470ef",
   "metadata": {
    "editable": true,
    "slideshow": {
     "slide_type": "subslide"
    },
    "tags": []
   },
   "source": [
    "## Import Node Data"
   ]
  },
  {
   "cell_type": "code",
   "execution_count": null,
   "id": "8f0375b6",
   "metadata": {
    "slideshow": {
     "slide_type": "-"
    }
   },
   "outputs": [],
   "source": [
    "city_df = pd.read_csv(\"data/wg22_name_xy.txt\", header=None, names=[\"Stadt\", \"x\", \"y\"])\n",
    "names = city_df.Stadt.tolist()\n",
    "city_df"
   ]
  },
  {
   "cell_type": "markdown",
   "id": "138864e8",
   "metadata": {
    "editable": true,
    "slideshow": {
     "slide_type": "subslide"
    },
    "tags": []
   },
   "source": [
    "## Import Distances"
   ]
  },
  {
   "cell_type": "code",
   "execution_count": null,
   "id": "cbcd2bf0",
   "metadata": {},
   "outputs": [],
   "source": [
    "with open(\"data/wg22_dist.txt\", \"r\") as f:\n",
    "    distance_raw = f.read()\n",
    "\n",
    "# each block ends with a short line of 12 characters.\n",
    "rows = [line.split() for line in distance_raw.splitlines()]\n",
    "\n",
    "distance_matrix = pd.DataFrame(rows, columns=names, index=names, dtype=float)\n",
    "distance_matrix"
   ]
  },
  {
   "cell_type": "markdown",
   "id": "a6dd9a12",
   "metadata": {
    "editable": true,
    "slideshow": {
     "slide_type": "subslide"
    },
    "tags": []
   },
   "source": [
    "## Convert to Dense Representation (Edge-list)"
   ]
  },
  {
   "cell_type": "code",
   "execution_count": null,
   "id": "20b3989c",
   "metadata": {
    "slideshow": {
     "slide_type": "-"
    }
   },
   "outputs": [],
   "source": [
    "edges = [(from_, to_, distance_matrix.loc[from_, to_]) \n",
    "         for from_, to_ in itertools.product(names, repeat=2)\n",
    "         if from_ != to_]\n",
    "\n",
    "df_edges = pd.DataFrame(edges, columns=[\"From\", \"To\", \"Distance\"])\n",
    "df_edges"
   ]
  },
  {
   "cell_type": "markdown",
   "id": "d87316b3",
   "metadata": {
    "editable": true,
    "slideshow": {
     "slide_type": "subslide"
    },
    "tags": []
   },
   "source": [
    "## Create a subgraph from edgelist"
   ]
  },
  {
   "cell_type": "code",
   "execution_count": null,
   "id": "854100b3",
   "metadata": {
    "editable": true,
    "slideshow": {
     "slide_type": "-"
    },
    "tags": []
   },
   "outputs": [],
   "source": [
    "sub_df = df_edges.sample(frac=0.1, random_state=12345)  # <-- a 10% subset of edges, to make it more interesting\n",
    "\n",
    "G = nx.from_pandas_edgelist(df=sub_df, source='From', target='To', edge_attr='Distance', create_using=nx.Graph)"
   ]
  },
  {
   "cell_type": "code",
   "execution_count": null,
   "id": "e9d6afc3",
   "metadata": {
    "cell_style": "center",
    "editable": true,
    "slideshow": {
     "slide_type": "-"
    },
    "tags": []
   },
   "outputs": [],
   "source": [
    "plt.figure(0,figsize=(12,12)) \n",
    "\n",
    "# Use geographic node positions\n",
    "for rowidx, row in city_df.iterrows():\n",
    "    G.nodes[row.Stadt][\"pos\"] = (row[\"x\"], row[\"y\"])\n",
    "pos = nx.get_node_attributes(G, 'pos')\n",
    "\n",
    "\n",
    "nx.draw(G, pos, with_labels=True, node_color=\"red\")\n",
    "labels = {e: G.edges[e]['Distance'] for e in G.edges}\n",
    "nx.draw_networkx_edge_labels(G, pos, edge_labels=labels)\n",
    "plt.show()"
   ]
  },
  {
   "cell_type": "markdown",
   "id": "35b7f751-d366-4fe9-8750-df7b765b75f8",
   "metadata": {
    "editable": true,
    "slideshow": {
     "slide_type": "subslide"
    },
    "tags": []
   },
   "source": [
    "# Graph Algorithms"
   ]
  },
  {
   "cell_type": "markdown",
   "id": "cf539180",
   "metadata": {
    "editable": true,
    "slideshow": {
     "slide_type": "fragment"
    },
    "tags": []
   },
   "source": [
    "## Calculate Minimum Spanning Tree ? "
   ]
  },
  {
   "cell_type": "code",
   "execution_count": null,
   "id": "b907d7f5",
   "metadata": {
    "editable": true,
    "slideshow": {
     "slide_type": "-"
    },
    "tags": []
   },
   "outputs": [],
   "source": [
    "MST = nx.minimum_spanning_tree(G)"
   ]
  },
  {
   "cell_type": "code",
   "execution_count": null,
   "id": "3073969a",
   "metadata": {
    "editable": true,
    "slideshow": {
     "slide_type": "fragment"
    },
    "tags": []
   },
   "outputs": [],
   "source": [
    "plt.figure(0,figsize=(15,15)) \n",
    "nx.draw(MST, pos, with_labels=True, node_color=\"red\")\n",
    "labels = {e: MST.edges[e]['Distance'] for e in MST.edges}\n",
    "nx.draw_networkx_edge_labels(MST, pos, edge_labels=labels)\n",
    "plt.show()"
   ]
  },
  {
   "cell_type": "markdown",
   "id": "93e36412",
   "metadata": {
    "editable": true,
    "slideshow": {
     "slide_type": "subslide"
    },
    "tags": []
   },
   "source": [
    "## Traveling Salesman Problem"
   ]
  },
  {
   "cell_type": "code",
   "execution_count": null,
   "id": "91b1d1c2",
   "metadata": {
    "slideshow": {
     "slide_type": "-"
    }
   },
   "outputs": [],
   "source": [
    "node_list = nx.approximation.traveling_salesman_problem(G.to_undirected(), weight=\"Distance\")\n",
    "print(node_list)"
   ]
  },
  {
   "cell_type": "code",
   "execution_count": null,
   "id": "dcb67dbc",
   "metadata": {
    "slideshow": {
     "slide_type": "subslide"
    }
   },
   "outputs": [],
   "source": [
    "tsp_G = G.to_directed().edge_subgraph(zip(node_list, node_list[1:]))  # Create a subgraph\n",
    "\n",
    "plt.figure(0,figsize=(15,15)) \n",
    "nx.draw(tsp_G, pos, with_labels=True, node_color=\"red\")\n",
    "labels = {e: tsp_G.edges[e]['Distance'] for e in tsp_G.edges}\n",
    "nx.draw_networkx_edge_labels(MST, pos, edge_labels=labels)\n",
    "plt.show()"
   ]
  },
  {
   "cell_type": "markdown",
   "id": "42b8d883",
   "metadata": {
    "editable": true,
    "slideshow": {
     "slide_type": "subslide"
    },
    "tags": []
   },
   "source": [
    "## Traverse Graph in DFS fashion"
   ]
  },
  {
   "cell_type": "code",
   "execution_count": null,
   "id": "018153b3",
   "metadata": {
    "editable": true,
    "slideshow": {
     "slide_type": "-"
    },
    "tags": []
   },
   "outputs": [],
   "source": [
    "# list() because we get an iterator\n",
    "list(nx.dfs_edges(G, \"Wuerzburg\"))"
   ]
  },
  {
   "cell_type": "markdown",
   "id": "0b0f1638-2b0f-464e-90e3-584ab5ab2ebe",
   "metadata": {
    "editable": true,
    "slideshow": {
     "slide_type": "subslide"
    },
    "tags": []
   },
   "source": [
    "## Traverse Graph in BFS fashion"
   ]
  },
  {
   "cell_type": "code",
   "execution_count": null,
   "id": "9af219d0",
   "metadata": {
    "editable": true,
    "slideshow": {
     "slide_type": ""
    },
    "tags": []
   },
   "outputs": [],
   "source": [
    "# list() because we get an iterator\n",
    "list(nx.bfs_edges(G, \"Wuerzburg\"))"
   ]
  },
  {
   "cell_type": "markdown",
   "id": "5a567319",
   "metadata": {
    "editable": true,
    "slideshow": {
     "slide_type": "subslide"
    },
    "tags": []
   },
   "source": [
    "## Calculate Shortest Paths \n",
    "(Muenchen => Saarbruecken)"
   ]
  },
  {
   "cell_type": "code",
   "execution_count": null,
   "id": "5db10768",
   "metadata": {
    "editable": true,
    "slideshow": {
     "slide_type": ""
    },
    "tags": []
   },
   "outputs": [],
   "source": [
    "plt.figure(0,figsize=(12,12)) \n",
    "nx.draw(G, pos, with_labels=True, node_color=\"red\")\n",
    "labels = {e: G.edges[e]['Distance'] for e in G.edges}\n",
    "nx.draw_networkx_edge_labels(G, pos, edge_labels=labels)\n",
    "plt.show()"
   ]
  },
  {
   "cell_type": "code",
   "execution_count": null,
   "id": "106229a0",
   "metadata": {
    "editable": true,
    "slideshow": {
     "slide_type": "subslide"
    },
    "tags": []
   },
   "outputs": [],
   "source": [
    "path = nx.shortest_path(G, source=\"Muenchen\",\n",
    "                        target=\"Saarbruecken\")\n",
    "print(path, nx.path_weight(G, path, weight=\"Distance\"))"
   ]
  },
  {
   "cell_type": "code",
   "execution_count": null,
   "id": "2a151bd1",
   "metadata": {
    "editable": true,
    "slideshow": {
     "slide_type": "fragment"
    },
    "tags": []
   },
   "outputs": [],
   "source": [
    "path = nx.shortest_path(G, source=\"Muenchen\", \n",
    "                        target=\"Saarbruecken\",\n",
    "                        weight=\"Distance\")\n",
    "print(path, nx.path_weight(G, path, weight=\"Distance\"))"
   ]
  },
  {
   "cell_type": "code",
   "execution_count": null,
   "id": "02d0a7a1",
   "metadata": {
    "editable": true,
    "slideshow": {
     "slide_type": "fragment"
    },
    "tags": []
   },
   "outputs": [],
   "source": [
    "path = nx.shortest_path(MST, source=\"Muenchen\", \n",
    "                        target=\"Saarbruecken\", \n",
    "                        weight=\"Distance\")\n",
    "print(path, nx.path_weight(G, path, weight=\"Distance\"))"
   ]
  },
  {
   "cell_type": "markdown",
   "id": "7155f5f0",
   "metadata": {
    "editable": true,
    "slideshow": {
     "slide_type": "slide"
    },
    "tags": []
   },
   "source": [
    "# Questions ?"
   ]
  }
 ],
 "metadata": {
  "celltoolbar": "Slideshow",
  "kernelspec": {
   "display_name": "Python 3 (ipykernel)",
   "language": "python",
   "name": "python3"
  },
  "language_info": {
   "codemirror_mode": {
    "name": "ipython",
    "version": 3
   },
   "file_extension": ".py",
   "mimetype": "text/x-python",
   "name": "python",
   "nbconvert_exporter": "python",
   "pygments_lexer": "ipython3",
   "version": "3.9.18"
  }
 },
 "nbformat": 4,
 "nbformat_minor": 5
}
